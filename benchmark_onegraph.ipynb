{
 "cells": [
  {
   "cell_type": "code",
   "execution_count": 1,
   "metadata": {},
   "outputs": [],
   "source": [
    "# Set input parameters here\n",
    "base_args = [\n",
    "    \"-i:email-Eu-core.txt\",\n",
    "    \"-d:Y\",\n",
    "    \"-m:FFLoop\"\n",
    "]\n",
    "# Generate n random numbers as seeds\n",
    "n = 10"
   ]
  },
  {
   "cell_type": "code",
   "execution_count": 2,
   "metadata": {},
   "outputs": [],
   "source": [
    "exe_paths = [\n",
    "    \"./localmotifclustermain.exe\",\n",
    "    \"./purelylocalmotifclustermain.exe\"\n",
    "]"
   ]
  },
  {
   "cell_type": "code",
   "execution_count": 3,
   "metadata": {},
   "outputs": [
    {
     "name": "stdout",
     "output_type": "stream",
     "text": [
      "max node: 1004\n"
     ]
    }
   ],
   "source": [
    "import os\n",
    "for arg in base_args:\n",
    "    if arg.startswith(\"-i:\"):\n",
    "        input_file = arg.split(\":\")[1]\n",
    "max_node = 0\n",
    "if os.path.exists(input_file):\n",
    "    with open(input_file, 'r') as f:\n",
    "        for line in f:\n",
    "            if line.startswith(\"#\"):\n",
    "                continue\n",
    "            from_node, to_node = map(int, line.split())\n",
    "            max_node = max(max_node, from_node, to_node)\n",
    "    print(f\"max node: {max_node}\")\n",
    "else:\n",
    "    print(f\"Error: Input file {input_file} not found.\")"
   ]
  },
  {
   "cell_type": "code",
   "execution_count": 4,
   "metadata": {},
   "outputs": [],
   "source": [
    "import random\n",
    "def seed(n, m):\n",
    "    random_numbers = [random.randint(1, m) for _ in range(n)]\n",
    "    return random_numbers\n",
    "seeds = seed(n, max_node)"
   ]
  },
  {
   "cell_type": "code",
   "execution_count": 5,
   "metadata": {},
   "outputs": [],
   "source": [
    "import platform\n",
    "def write_system_info(runtime_log_file):\n",
    "    system_info = {\n",
    "        \"System\": platform.system(),\n",
    "        \"Release\": platform.release(),\n",
    "        \"Version\": platform.version(),\n",
    "        \"Machine\": platform.machine(),\n",
    "        \"Processor\": platform.processor(),\n",
    "        \"Architecture\": platform.architecture()\n",
    "    }\n",
    "    with open(runtime_log_file, \"w\") as runtime_log:\n",
    "        for key, value in system_info.items():\n",
    "            runtime_log.write(f\"{key}: {value}\\n\")\n",
    "        runtime_log.write(\"\\n\")"
   ]
  },
  {
   "cell_type": "code",
   "execution_count": 6,
   "metadata": {},
   "outputs": [],
   "source": [
    "import re\n",
    "def compare_clusters(log_file1, log_file2):\n",
    "    \"\"\"Compare the numbers in the third-to-last line of two log files, identifying which numbers are missing or extra.\"\"\"\n",
    "    # Extract numbers from the third-to-last line of a log file\n",
    "    def extract_numbers_from_third_last_line(log_file):\n",
    "        with open(log_file, \"r\") as f:\n",
    "            lines = f.readlines()\n",
    "            third_last_line = lines[-3]  # The third-to-last line\n",
    "            # Use regular expressions to extract numbers from the line\n",
    "            numbers = re.findall(r'\\d+', third_last_line)\n",
    "            return set(numbers)  # Return the set of numbers\n",
    "\n",
    "    # Get the numbers from the third-to-last line of both log files\n",
    "    numbers1 = extract_numbers_from_third_last_line(log_file1)\n",
    "    numbers2 = extract_numbers_from_third_last_line(log_file2)\n",
    "\n",
    "    # Identify numbers missing or extra in the second file\n",
    "    numbers_missing_in_2 = numbers1 - numbers2  # Numbers in the first file but not in the second\n",
    "    numbers_extra_in_2 = numbers2 - numbers1    # Numbers in the second file but not in the first\n",
    "\n",
    "    return numbers_missing_in_2, numbers_extra_in_2"
   ]
  },
  {
   "cell_type": "code",
   "execution_count": 7,
   "metadata": {},
   "outputs": [],
   "source": [
    "# log directory\n",
    "log_directory = f\"./logs/{input_file}\"\n",
    "if not os.path.exists(log_directory):\n",
    "    os.makedirs(log_directory)\n",
    "\n",
    "# runtime.log\n",
    "runtime_file = os.path.join(log_directory, \"runtime.log\")\n",
    "write_system_info(runtime_file)\n",
    "with open(runtime_file, \"a\") as f:\n",
    "    f.write(f\"Running {exe_paths} with arguments: {' '.join(base_args)}\\n\\n\")"
   ]
  },
  {
   "cell_type": "code",
   "execution_count": 8,
   "metadata": {},
   "outputs": [],
   "source": [
    "def get_runtime(log_file):\n",
    "    \"\"\"Get the last line of the log file\"\"\"\n",
    "    with open(log_file, \"r\") as f:\n",
    "        # Move the file pointer to the end of the file\n",
    "        f.seek(0, os.SEEK_END)\n",
    "        \n",
    "        # Get the current position of the file pointer (i.e., the offset at the end of the file)\n",
    "        position = f.tell()\n",
    "        \n",
    "        # Read backwards from the end of the file until a newline character is encountered\n",
    "        while position > 0:\n",
    "            position -= 1\n",
    "            f.seek(position)\n",
    "            char = f.read(1)\n",
    "            if char == \"\\n\" and position != f.tell():\n",
    "                break\n",
    "        \n",
    "        # Read the last line\n",
    "        last_line = f.readline().strip()  # Remove any trailing newline character\n",
    "        return last_line"
   ]
  },
  {
   "cell_type": "code",
   "execution_count": 9,
   "metadata": {},
   "outputs": [
    {
     "name": "stdout",
     "output_type": "stream",
     "text": [
      "Running ./localmotifclustermain.exe with arguments: -i:email-Eu-core.txt -d:Y -m:FFLoop -s:377\n",
      "Success\n",
      "Running ./purelylocalmotifclustermain.exe with arguments: -i:email-Eu-core.txt -d:Y -m:FFLoop -s:377\n",
      "Success\n",
      "Running ./localmotifclustermain.exe with arguments: -i:email-Eu-core.txt -d:Y -m:FFLoop -s:933\n",
      "Success\n",
      "Running ./purelylocalmotifclustermain.exe with arguments: -i:email-Eu-core.txt -d:Y -m:FFLoop -s:933\n",
      "Success\n",
      "Running ./localmotifclustermain.exe with arguments: -i:email-Eu-core.txt -d:Y -m:FFLoop -s:553\n",
      "Success\n",
      "Running ./purelylocalmotifclustermain.exe with arguments: -i:email-Eu-core.txt -d:Y -m:FFLoop -s:553\n",
      "Success\n",
      "Running ./localmotifclustermain.exe with arguments: -i:email-Eu-core.txt -d:Y -m:FFLoop -s:730\n",
      "Success\n",
      "Running ./purelylocalmotifclustermain.exe with arguments: -i:email-Eu-core.txt -d:Y -m:FFLoop -s:730\n",
      "Success\n",
      "Running ./localmotifclustermain.exe with arguments: -i:email-Eu-core.txt -d:Y -m:FFLoop -s:764\n",
      "Success\n",
      "Running ./purelylocalmotifclustermain.exe with arguments: -i:email-Eu-core.txt -d:Y -m:FFLoop -s:764\n",
      "Success\n",
      "Running ./localmotifclustermain.exe with arguments: -i:email-Eu-core.txt -d:Y -m:FFLoop -s:205\n",
      "Success\n",
      "Running ./purelylocalmotifclustermain.exe with arguments: -i:email-Eu-core.txt -d:Y -m:FFLoop -s:205\n",
      "Success\n",
      "Running ./localmotifclustermain.exe with arguments: -i:email-Eu-core.txt -d:Y -m:FFLoop -s:428\n",
      "Success\n",
      "Running ./purelylocalmotifclustermain.exe with arguments: -i:email-Eu-core.txt -d:Y -m:FFLoop -s:428\n",
      "Success\n",
      "Running ./localmotifclustermain.exe with arguments: -i:email-Eu-core.txt -d:Y -m:FFLoop -s:253\n",
      "Success\n",
      "Running ./purelylocalmotifclustermain.exe with arguments: -i:email-Eu-core.txt -d:Y -m:FFLoop -s:253\n",
      "Success\n",
      "Running ./localmotifclustermain.exe with arguments: -i:email-Eu-core.txt -d:Y -m:FFLoop -s:375\n",
      "Success\n",
      "Running ./purelylocalmotifclustermain.exe with arguments: -i:email-Eu-core.txt -d:Y -m:FFLoop -s:375\n",
      "Success\n",
      "Running ./localmotifclustermain.exe with arguments: -i:email-Eu-core.txt -d:Y -m:FFLoop -s:264\n",
      "Success\n",
      "Running ./purelylocalmotifclustermain.exe with arguments: -i:email-Eu-core.txt -d:Y -m:FFLoop -s:264\n",
      "Success\n"
     ]
    }
   ],
   "source": [
    "# main\n",
    "import subprocess\n",
    "for idx in range(0, n):\n",
    "    current_seed = seeds[idx]\n",
    "    with open(runtime_file, \"a\") as f:\n",
    "        f.write(f\"-s:{current_seed} \")\n",
    "\n",
    "    previous_log_file = None\n",
    "    # Construct the command for each executable file\n",
    "    for exe_path in exe_paths:\n",
    "        args = base_args + [f\"-s:{current_seed}\"]\n",
    "        print(f\"Running {exe_path} with arguments: {' '.join(args)}\")\n",
    "        # Set the log file name\n",
    "        log_file = os.path.join(log_directory, f\"{os.path.basename(exe_path)}_seed{current_seed}.log\")\n",
    "        \n",
    "        try:\n",
    "            # Run the command and capture the output\n",
    "            result = subprocess.run([exe_path] + args, capture_output=True, text=True)\n",
    "            # Check if the program ran successfully\n",
    "            result.check_returncode()  # This will raise an exception if the return code is non-zero\n",
    "            # Record the success log\n",
    "            with open(log_file, \"w\") as f:\n",
    "                f.write(result.stdout)\n",
    "            print(f\"Success\")\n",
    "        \n",
    "        except subprocess.CalledProcessError as e:\n",
    "            # Record the failure log\n",
    "            with open(log_file, \"w\") as f:\n",
    "                f.write(f\"Error running {exe_path}\\n\")\n",
    "                f.write(\"Error Output:\\n\")\n",
    "                f.write(e.stderr)\n",
    "            print(f\"Error\")\n",
    "            print(f\"Error Output:\\n{e.stderr}\")\n",
    "        \n",
    "        # Get and write the last line of the log file to runtime.log\n",
    "        last_line = get_runtime(log_file)\n",
    "        with open(runtime_file, \"a\") as f:\n",
    "            f.write(last_line + \" \")\n",
    "        \n",
    "        # If the same seed has been run before\n",
    "        if previous_log_file:\n",
    "            missing, extra = compare_clusters(previous_log_file, log_file)\n",
    "            # Write the data to runtime.log\n",
    "            with open(runtime_file, \"a\") as f:\n",
    "                f.write(f\"Missing:{missing} \")\n",
    "                f.write(f\"Extra:{extra} \\n\")\n",
    "        \n",
    "        # Record the current log file to compare next time\n",
    "        previous_log_file = log_file"
   ]
  }
 ],
 "metadata": {
  "kernelspec": {
   "display_name": "Python 3",
   "language": "python",
   "name": "python3"
  },
  "language_info": {
   "codemirror_mode": {
    "name": "ipython",
    "version": 3
   },
   "file_extension": ".py",
   "mimetype": "text/x-python",
   "name": "python",
   "nbconvert_exporter": "python",
   "pygments_lexer": "ipython3",
   "version": "3.8.10"
  }
 },
 "nbformat": 4,
 "nbformat_minor": 2
}
