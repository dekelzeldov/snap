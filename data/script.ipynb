{
 "cells": [
  {
   "cell_type": "code",
   "execution_count": 2,
   "metadata": {},
   "outputs": [
    {
     "name": "stdout",
     "output_type": "stream",
     "text": [
      "Running benchmark.exe with mu = 0.1\n",
      "Success for mu = 0.1\n",
      "Renamed network.dat to ./network_10k_mu0.1.dat\n",
      "Running benchmark.exe with mu = 0.2\n",
      "Success for mu = 0.2\n",
      "Renamed network.dat to ./network_10k_mu0.2.dat\n",
      "Running benchmark.exe with mu = 0.3\n",
      "Success for mu = 0.3\n",
      "Renamed network.dat to ./network_10k_mu0.3.dat\n",
      "Running benchmark.exe with mu = 0.4\n",
      "Success for mu = 0.4\n",
      "Renamed network.dat to ./network_10k_mu0.4.dat\n",
      "Running benchmark.exe with mu = 0.5\n",
      "Success for mu = 0.5\n",
      "Renamed network.dat to ./network_10k_mu0.5.dat\n",
      "Running benchmark.exe with mu = 0.6\n",
      "Success for mu = 0.6\n",
      "Renamed network.dat to ./network_10k_mu0.6.dat\n",
      "Running benchmark.exe with mu = 0.7\n",
      "Success for mu = 0.7\n",
      "Renamed network.dat to ./network_10k_mu0.7.dat\n",
      "Running benchmark.exe with mu = 0.8\n",
      "Success for mu = 0.8\n",
      "Renamed network.dat to ./network_10k_mu0.8.dat\n",
      "Running benchmark.exe with mu = 0.9\n",
      "Success for mu = 0.9\n",
      "Renamed network.dat to ./network_10k_mu0.9.dat\n"
     ]
    }
   ],
   "source": [
    "import subprocess\n",
    "import os\n",
    "\n",
    "# 定义固定参数\n",
    "exe_path = \"./benchmark.exe\"\n",
    "output_directory = \"./\"\n",
    "base_args = [\n",
    "    \"-N\", \"10000\",\n",
    "    \"-k\", \"20\",\n",
    "    \"-maxk\", \"50\",\n",
    "    \"-minc\", \"20\",\n",
    "    \"-maxc\", \"50\",\n",
    "    \"-on\", \"5000\",\n",
    "    \"-om\", \"2\"\n",
    "]\n",
    "\n",
    "output_filename = \"network_10k_mu\"\n",
    "\n",
    "# 遍历 mu 的值，从 0.1 到 0.9\n",
    "for mu in [round(x * 0.1, 1) for x in range(1, 10)]:\n",
    "    args = base_args + [\"-mu\", str(mu)]  # 加入 mu 参数\n",
    "    print(f\"Running benchmark.exe with mu = {mu}\")\n",
    "    \n",
    "    # 调用 benchmark.exe\n",
    "    result = subprocess.run([exe_path] + args, cwd=output_directory, capture_output=True, text=True)\n",
    "    \n",
    "    # 检查程序是否成功运行\n",
    "    if result.returncode == 0:\n",
    "        print(f\"Success for mu = {mu}\")\n",
    "        \n",
    "        # 定义生成的文件路径和目标文件名\n",
    "        original_file = os.path.join(output_directory, \"network.dat\")\n",
    "        renamed_file = os.path.join(output_directory, f\"{output_filename}{mu:.1f}.dat\")\n",
    "        \n",
    "        # 检查文件是否存在并重命名\n",
    "        if os.path.exists(original_file):\n",
    "            os.rename(original_file, renamed_file)\n",
    "            print(f\"Renamed network.dat to {renamed_file}\")\n",
    "        else:\n",
    "            print(f\"Error: {original_file} not found\")\n",
    "    else:\n",
    "        print(f\"Error for mu = {mu}\\nError Output:\\n{result.stderr}\")"
   ]
  }
 ],
 "metadata": {
  "kernelspec": {
   "display_name": "Python 3",
   "language": "python",
   "name": "python3"
  },
  "language_info": {
   "codemirror_mode": {
    "name": "ipython",
    "version": 3
   },
   "file_extension": ".py",
   "mimetype": "text/x-python",
   "name": "python",
   "nbconvert_exporter": "python",
   "pygments_lexer": "ipython3",
   "version": "3.8.10"
  }
 },
 "nbformat": 4,
 "nbformat_minor": 2
}
